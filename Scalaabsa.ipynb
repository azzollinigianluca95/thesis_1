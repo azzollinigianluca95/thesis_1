{
  "nbformat": 4,
  "nbformat_minor": 0,
  "metadata": {
    "colab": {
      "name": "Scalaabsa",
      "provenance": [],
      "authorship_tag": "ABX9TyOc9e1gRGMu3kpdrgBY6uic",
      "include_colab_link": true
    },
    "kernelspec": {
      "name": "python3",
      "display_name": "Python 3"
    },
    "accelerator": "GPU"
  },
  "cells": [
    {
      "cell_type": "markdown",
      "metadata": {
        "id": "view-in-github",
        "colab_type": "text"
      },
      "source": [
        "<a href=\"https://colab.research.google.com/github/azzollinigianluca95/thesis_1/blob/main/Scalaabsa.ipynb\" target=\"_parent\"><img src=\"https://colab.research.google.com/assets/colab-badge.svg\" alt=\"Open In Colab\"/></a>"
      ]
    },
    {
      "cell_type": "code",
      "metadata": {
        "id": "XDxp_yoHH_N-"
      },
      "source": [
        "!git clone https://github.com/ScalaConsultants/Aspect-Based-Sentiment-Analysis.git\r\n"
      ],
      "execution_count": null,
      "outputs": []
    },
    {
      "cell_type": "code",
      "metadata": {
        "id": "JgwN3l1CIhqD"
      },
      "source": [
        "#A)\r\n",
        "#ARTICLE: https://towardsdatascience.com/conda-google-colab-75f7c867a522\r\n",
        "!python --version\r\n",
        "#B)\r\n",
        "!wget -c https://repo.anaconda.com/miniconda/Miniconda3-4.5.4-Linux-x86_64.sh\r\n",
        "!chmod +x Miniconda3-4.5.4-Linux-x86_64.sh\r\n",
        "!bash ./Miniconda3-4.5.4-Linux-x86_64.sh -b -f -p /usr/local\r\n",
        "# update 1\r\n",
        "!conda install -q -y --prefix /usr/local python=3.6 ujson\r\n",
        "# update 2\r\n",
        "import sys\r\n",
        "sys.path.append('/usr/local/lib/python3.6/site-packages')\r\n",
        "# test it\r\n",
        "import ujson\r\n",
        "print(ujson.dumps({1:2}))\r\n",
        "#C)\r\n",
        "!which conda\r\n",
        "#D)\r\n",
        "!conda --version\r\n",
        "!which python\r\n",
        "!python --version\r\n",
        "!conda install --channel defaults conda python=3.6 --yes\r\n",
        "!conda update --channel defaults --all --yes\r\n",
        "#E)\r\n",
        "!conda --version # now returns 4.8.3\r\n",
        "!python --version # now returns Python 3.6.10 :: Anaconda, Inc.\r\n",
        "#F)\r\n",
        "import sys\r\n",
        "sys.path\r\n",
        "#F)\r\n",
        "'''Now all you need to do is install you favorite packages. Just remember \r\n",
        "to include the --yes flag when installing your packages to avoid getting \r\n",
        "prompted to confirm the package plan.'''\r\n",
        "!conda install --channel conda-forge featuretools --yes\r\n"
      ],
      "execution_count": null,
      "outputs": []
    },
    {
      "cell_type": "code",
      "metadata": {
        "id": "sawWscPcK8rD"
      },
      "source": [
        "!conda env create -f=/content/Aspect-Based-Sentiment-Analysis/environment.yml"
      ],
      "execution_count": null,
      "outputs": []
    },
    {
      "cell_type": "code",
      "metadata": {
        "colab": {
          "base_uri": "https://localhost:8080/"
        },
        "id": "BaG02i7xL92y",
        "outputId": "c56507d8-f13c-42b8-c65a-4add6fe5833d"
      },
      "source": [
        "%%bash\r\n",
        "source activate Aspect-Based-Sentiment-Analysis\r\n",
        "python\r\n",
        "import sys\r\n",
        "# maybe only need this the first time we run this notebook\r\n",
        "sys.path.append('/usr/local/lib/python3.6/site-packages')\r\n",
        "\r\n",
        "print(\"Python version\")\r\n",
        "print(sys.version)\r\n"
      ],
      "execution_count": 42,
      "outputs": [
        {
          "output_type": "stream",
          "text": [
            "Python version\n",
            "3.6.9 |Anaconda, Inc.| (default, Jul 30 2019, 19:07:31) \n",
            "[GCC 7.3.0]\n"
          ],
          "name": "stdout"
        }
      ]
    }
  ]
}